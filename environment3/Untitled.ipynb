{
 "cells": [
  {
   "cell_type": "code",
   "execution_count": 1,
   "metadata": {
    "collapsed": true
   },
   "outputs": [],
   "source": [
    "import numpy as np\n",
    "import random\n",
    "import time\n",
    "import pandas as pd\n",
    "import matplotlib.pyplot as plt\n",
    "import time"
   ]
  },
  {
   "cell_type": "code",
   "execution_count": 20,
   "metadata": {
    "collapsed": false
   },
   "outputs": [],
   "source": [
    "def draw_transition_matrix(T,size):\n",
    "    matrix=np.zeros((size,size))\n",
    "    for i in range(T.shape[0]):\n",
    "        matrix[T[i][0]-1][T[i][1]-1]=T[i][2]\n",
    "    return matrix"
   ]
  },
  {
   "cell_type": "code",
   "execution_count": 3,
   "metadata": {
    "collapsed": true
   },
   "outputs": [],
   "source": [
    "def value_iteration(T,gamma,epsilon,R):\n",
    "    size=len(R)\n",
    "    actions=T.shape[0]\n",
    "    Q=pd.DataFrame(np.zeros((size,actions)))\n",
    "    v=np.zeros((size,1))\n",
    "    iterations=0\n",
    "    policy=np.zeros((size,1))\n",
    "    Vold=np.zeros((size,1))+epsilon+2\n",
    "    iterations=0\n",
    "    start=time.time()\n",
    "    while True: #int(max(abs(Vold-v))) > epsilon:\n",
    "        for i in range(actions):\n",
    "            Q.iloc[:,i]=R+gamma*(np.dot(T[i],v))\n",
    "        Vold=v\n",
    "        v=np.array([Q.max(1)]).T\n",
    "        policy=Q.idxmax(1)\n",
    "        iterations=iterations+1\n",
    "\n",
    "        if max(abs(Vold-v)) < epsilon:\n",
    "            print (iterations)\n",
    "            end=time.time()\n",
    "            print(end-start)\n",
    "            break\n",
    "    return v,policy"
   ]
  },
  {
   "cell_type": "code",
   "execution_count": 4,
   "metadata": {
    "collapsed": true
   },
   "outputs": [],
   "source": [
    "def policy_iteration(T,gamma,epsilon,R):\n",
    "    size=len(R)\n",
    "    actions=T.shape[0]\n",
    "    Q=pd.DataFrame(np.zeros((size,actions)))\n",
    "    policy=np.ones((size,1))*random.randint(0, actions-1)\n",
    "    Tpi=T[0]*0\n",
    "    v=np.zeros((size,1))\n",
    "    iterations=0\n",
    "    p_test=np.ones((size,1))*1000\n",
    "    vold=np.ones((size,1))*1000\n",
    "    start=time.time()\n",
    "    while 1000 in p_test:\n",
    "        for i in range(size):\n",
    "            Tpi[i]=T[int(policy[i])][i]\n",
    "        v=np.dot(np.linalg.inv(np.identity(size)-gamma*Tpi),R)\n",
    "        for i in range(actions):\n",
    "            Q.iloc[:,i]=R+gamma*np.dot(T[i],v)\n",
    "            #Q.iloc[:,i]=np.dot(T[i],gamma*v+R)\n",
    "        policy_value=np.array([Q.idxmax(1)]).T\n",
    "        value=np.array([Q.max(1)]).T\n",
    "        iterations=iterations+1\n",
    "        if np.all(policy_value==policy):\n",
    "            p_test=policy\n",
    "            print (iterations)\n",
    "            end=time.time()\n",
    "            print(end-start)\n",
    "            break\n",
    "        else:\n",
    "            policy=policy_value\n",
    "    return policy,value"
   ]
  },
  {
   "cell_type": "code",
   "execution_count": 5,
   "metadata": {
    "collapsed": true
   },
   "outputs": [],
   "source": [
    "def plot_images(value,number):\n",
    "    w=10\n",
    "    h=10\n",
    "    fig=plt.figure(figsize=(8, 8))\n",
    "    columns = 3\n",
    "    rows = 4\n",
    "    for i in range(1, number +1):\n",
    "        fig.add_subplot(rows, columns, i)\n",
    "        plt.imshow(value[(i-1)*135:i*135].reshape((9,15)), cmap='gray',interpolation='nearest')\n",
    "    plt.show()"
   ]
  },
  {
   "cell_type": "code",
   "execution_count": 6,
   "metadata": {
    "collapsed": true
   },
   "outputs": [],
   "source": [
    "def policy_iteration_m(T,gamma,epsilon,R):\n",
    "    size=len(R)\n",
    "    actions=T.shape[0]\n",
    "    Q=pd.DataFrame(np.zeros((size,actions)))\n",
    "    policy=np.ones((size,1))*random.randint(0, actions-1)\n",
    "    Tpi=T[0]*0\n",
    "    v=np.zeros((size,1))*1000\n",
    "    iterations=0\n",
    "    p_test=np.ones((size,1))*1000\n",
    "    vold=np.ones((size,1))*1000\n",
    "    value=np.ones((size,1))*10000\n",
    "    start=time.time()\n",
    "    while 1000 in p_test:\n",
    "        for i in range(size):\n",
    "            Tpi[i]=T[int(policy[i])][i]\n",
    "        v=np.dot(np.linalg.inv(np.identity(size)-gamma*Tpi),R)\n",
    "        for i in range(actions):\n",
    "            Q.iloc[:,i]=R+gamma*np.dot(T[i],v)\n",
    "            #Q.iloc[:,i]=np.dot(T[i],gamma*v+R)\n",
    "        policy_value=np.array([Q.idxmax(1)]).T\n",
    "        vold=value\n",
    "        value=np.array([Q.max(1)]).T\n",
    "        iterations=iterations+1\n",
    "        if max(abs(vold-value)) < epsilon:\n",
    "            p_test=policy\n",
    "            print (iterations)\n",
    "            end=time.time()\n",
    "            print(end-start)\n",
    "            break\n",
    "        else:\n",
    "            policy=policy_value\n",
    "    return policy,value"
   ]
  },
  {
   "cell_type": "code",
   "execution_count": 7,
   "metadata": {
    "collapsed": true
   },
   "outputs": [],
   "source": [
    "def prioritized_sweeping(T,gamma,epsilon,R):\n",
    "    size=len(R)\n",
    "    actions=T.shape[0]\n",
    "    Q=pd.DataFrame(np.zeros((size,actions)))\n",
    "    v=np.zeros((size,1))+epsilon+2\n",
    "    iterations=0\n",
    "    policy=np.zeros((size,1))\n",
    "    Vold=np.zeros((size,1))\n",
    "    iterations=0\n",
    "    start=time.time()\n",
    "    H=np.random.rand(size,1)+epsilon\n",
    "    while True: \n",
    "        state=H.argmax()\n",
    "        for i in range(actions):\n",
    "            Q.iloc[:,i]=R+gamma*(np.dot(T[i],v))\n",
    "        Vold=float(v[state])\n",
    "        v[state]=Q.iloc[state,:].max()\n",
    "        policy=Q.iloc[state,:].idxmax()\n",
    "        delta=([abs(Vold-v[state])])\n",
    "        iterations=iterations+1\n",
    "        for i in range(actions):\n",
    "            H=np.maximum(H,delta*np.array([T[i][state]]).T)\n",
    "            if i==0:\n",
    "                H[state]=delta*np.array([T[i][state]]).T[state]\n",
    "        if  np.max(H) < epsilon:\n",
    "            print (iterations)\n",
    "            end=time.time()\n",
    "            print(end-start)\n",
    "            break\n",
    "    return v,policy"
   ]
  },
  {
   "cell_type": "code",
   "execution_count": 25,
   "metadata": {
    "collapsed": true
   },
   "outputs": [],
   "source": [
    "T1=np.loadtxt(\"Action01.txt\")\n",
    "T2=np.loadtxt(\"Action02.txt\")\n",
    "T3=np.loadtxt(\"Action03.txt\")\n",
    "T4=np.loadtxt(\"Action04.txt\")\n",
    "T5=np.loadtxt(\"Action05.txt\")\n",
    "T6=np.loadtxt(\"Action06.txt\")\n",
    "R=np.loadtxt(\"Rewards.txt\")\n",
    "R=np.array([R]).T"
   ]
  },
  {
   "cell_type": "code",
   "execution_count": 27,
   "metadata": {
    "collapsed": false
   },
   "outputs": [
    {
     "name": "stderr",
     "output_type": "stream",
     "text": [
      "/home/lucas/.local/lib/python3.5/site-packages/ipykernel/__main__.py:2: VisibleDeprecationWarning: using a non-integer number instead of an integer will result in an error in the future\n",
      "  from ipykernel import kernelapp as app\n",
      "/home/lucas/.local/lib/python3.5/site-packages/ipykernel/__main__.py:4: VisibleDeprecationWarning: using a non-integer number instead of an integer will result in an error in the future\n"
     ]
    }
   ],
   "source": [
    "T1=draw_transition_matrix(T1,T1.max())\n",
    "T2=draw_transition_matrix(T2,T2.max())\n",
    "T3=draw_transition_matrix(T3,T3.max())\n",
    "T4=draw_transition_matrix(T4,T4.max())\n",
    "T5=draw_transition_matrix(T5,T5.max())\n",
    "T6=draw_transition_matrix(T6,T6.max())"
   ]
  },
  {
   "cell_type": "code",
   "execution_count": 28,
   "metadata": {
    "collapsed": false
   },
   "outputs": [
    {
     "ename": "MemoryError",
     "evalue": "",
     "output_type": "error",
     "traceback": [
      "\u001b[0;31m---------------------------------------------------------------------------\u001b[0m",
      "\u001b[0;31mMemoryError\u001b[0m                               Traceback (most recent call last)",
      "\u001b[0;32m<ipython-input-28-9b0dbd19fd6c>\u001b[0m in \u001b[0;36m<module>\u001b[0;34m()\u001b[0m\n\u001b[0;32m----> 1\u001b[0;31m \u001b[0mT\u001b[0m\u001b[0;34m=\u001b[0m\u001b[0mnp\u001b[0m\u001b[0;34m.\u001b[0m\u001b[0marray\u001b[0m\u001b[0;34m(\u001b[0m\u001b[0;34m(\u001b[0m\u001b[0mT1\u001b[0m\u001b[0;34m,\u001b[0m\u001b[0mT2\u001b[0m\u001b[0;34m,\u001b[0m\u001b[0mT3\u001b[0m\u001b[0;34m,\u001b[0m\u001b[0mT4\u001b[0m\u001b[0;34m,\u001b[0m\u001b[0mT5\u001b[0m\u001b[0;34m,\u001b[0m\u001b[0mT6\u001b[0m\u001b[0;34m)\u001b[0m\u001b[0;34m)\u001b[0m\u001b[0;34m\u001b[0m\u001b[0m\n\u001b[0m",
      "\u001b[0;31mMemoryError\u001b[0m: "
     ]
    }
   ],
   "source": [
    "T=np.array((T1,T2,T3,T4,T5,T6))"
   ]
  },
  {
   "cell_type": "code",
   "execution_count": 26,
   "metadata": {
    "collapsed": false
   },
   "outputs": [
    {
     "data": {
      "text/plain": [
       "18900.0"
      ]
     },
     "execution_count": 26,
     "metadata": {},
     "output_type": "execute_result"
    }
   ],
   "source": [
    "T1.max()"
   ]
  },
  {
   "cell_type": "code",
   "execution_count": null,
   "metadata": {
    "collapsed": true
   },
   "outputs": [],
   "source": []
  }
 ],
 "metadata": {
  "kernelspec": {
   "display_name": "Python 3",
   "language": "python",
   "name": "python3"
  },
  "language_info": {
   "codemirror_mode": {
    "name": "ipython",
    "version": 3
   },
   "file_extension": ".py",
   "mimetype": "text/x-python",
   "name": "python",
   "nbconvert_exporter": "python",
   "pygments_lexer": "ipython3",
   "version": "3.5.2"
  }
 },
 "nbformat": 4,
 "nbformat_minor": 1
}
